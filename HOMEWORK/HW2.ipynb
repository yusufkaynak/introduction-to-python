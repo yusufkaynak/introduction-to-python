{
 "cells": [
  {
   "cell_type": "code",
   "execution_count": null,
   "metadata": {},
   "outputs": [
    {
     "name": "stdout",
     "output_type": "stream",
     "text": [
      "This program will print the student with the highest average on the screen after you enter the students' information.\n",
      "\n",
      "Please write down how many student information you will enter: 5\n",
      "\n",
      "Please enter the name: Murat\n",
      "Please enter the surname: Karakecili\n",
      "Please enter the midterm grade: 100\n",
      "Please enter the final grade: 100\n",
      "Please enter the homework grade: 100\n",
      "\n",
      "Please enter the name: Murat\n",
      "Please enter the surname: Yasin\n",
      "Please enter the midterm grade: 20\n",
      "Please enter the final grade: 30\n",
      "Please enter the homework grade: 40\n"
     ]
    }
   ],
   "source": [
    "grades=[]\n",
    "names=[]\n",
    "infoDic=dict()\n",
    "average=dict()\n",
    "try:\n",
    "  print(\"This program will print the student with the highest average on the screen after you enter the students' information.\")\n",
    "\n",
    "  count=int(input(\"\\nPlease write down how many student information you will enter: \"))\n",
    "  for x in range(count):\n",
    "    name=input(\"\\nPlease enter the name: \").title()\n",
    "    surname=input(\"Please enter the surname: \").title()\n",
    "    midterm=float(input(\"Please enter the midterm grade: \"))\n",
    "    final=float(input(\"Please enter the final grade: \"))\n",
    "    homework=float(input(\"Please enter the homework grade: \"))\n",
    "    \n",
    "    names.append(name+\" \"+surname)\n",
    "    grades.append([midterm,final,homework])\n",
    "  for x in range(count):\n",
    "    infoDic[names[x]]=grades[x]\n",
    "  \n",
    "  for item in infoDic.items():\n",
    "    ave=(item[1][0]+item[1][1]+item[1][2])/3\n",
    "    average[item[0]]=ave\n",
    "  \n",
    "  sort=sorted(average.items(), key=lambda item:item[1],reverse=True)\n",
    "  \n",
    "  print(\"\\nRanking success: \")\n",
    "  for x in sort:\n",
    "    print(x[0]+\"   \"+str(x[1]))\n",
    "  \n",
    "  print(\"\\nCongratulations \"+sort[0][0]+\" ! You have the highest average.\")\n",
    "except:\n",
    "  print(\"\\n\\t*** You didn't enter a number! ***\")"
   ]
  },
  {
   "cell_type": "code",
   "execution_count": null,
   "metadata": {},
   "outputs": [],
   "source": []
  }
 ],
 "metadata": {
  "kernelspec": {
   "display_name": "Python 3",
   "language": "python",
   "name": "python3"
  },
  "language_info": {
   "codemirror_mode": {
    "name": "ipython",
    "version": 3
   },
   "file_extension": ".py",
   "mimetype": "text/x-python",
   "name": "python",
   "nbconvert_exporter": "python",
   "pygments_lexer": "ipython3",
   "version": "3.6.11"
  }
 },
 "nbformat": 4,
 "nbformat_minor": 4
}
