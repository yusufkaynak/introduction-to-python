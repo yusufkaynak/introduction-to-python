{
 "cells": [
  {
   "cell_type": "code",
   "execution_count": 1,
   "metadata": {},
   "outputs": [
    {
     "name": "stdout",
     "output_type": "stream",
     "text": [
      "31 47 79 \n",
      "3 43 41 \n",
      "13 29 11 \n"
     ]
    }
   ],
   "source": [
    "import random\n",
    "\n",
    "def isPrime(number):\n",
    "  for i in range(2,number):\n",
    "    if (number % i)==0:\n",
    "      n=random.randint(2,100)\n",
    "      return isPrime(n)\n",
    "    \n",
    "  return number\n",
    "\n",
    "matrix = [[0 for x in range(3)] for y in range(3)]\n",
    "\n",
    "for i in range(3):\n",
    "  for j in range(3):\n",
    "    n=random.randint(2,100)\n",
    "    matrix[i][j]=isPrime(n)\n",
    "\n",
    "for i in range(len(matrix)):\n",
    "  for j in range(len(matrix[i])):\n",
    "    print(matrix[i][j],end=' ')\n",
    "  print()"
   ]
  },
  {
   "cell_type": "code",
   "execution_count": null,
   "metadata": {},
   "outputs": [],
   "source": []
  }
 ],
 "metadata": {
  "kernelspec": {
   "display_name": "Python 3",
   "language": "python",
   "name": "python3"
  },
  "language_info": {
   "codemirror_mode": {
    "name": "ipython",
    "version": 3
   },
   "file_extension": ".py",
   "mimetype": "text/x-python",
   "name": "python",
   "nbconvert_exporter": "python",
   "pygments_lexer": "ipython3",
   "version": "3.6.11"
  }
 },
 "nbformat": 4,
 "nbformat_minor": 4
}
